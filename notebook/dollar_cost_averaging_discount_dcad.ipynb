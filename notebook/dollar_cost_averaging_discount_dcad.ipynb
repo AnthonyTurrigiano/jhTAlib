{
  "nbformat": 4,
  "nbformat_minor": 0,
  "metadata": {
    "colab": {
      "name": "dollar-cost-averaging-discount-dcad.ipynb",
      "provenance": [],
      "private_outputs": true
    },
    "kernelspec": {
      "name": "python3",
      "display_name": "Python 3"
    }
  },
  "cells": [
    {
      "cell_type": "code",
      "metadata": {
        "id": "Xw0PS3NGTC3M",
        "colab_type": "code",
        "colab": {}
      },
      "source": [
        "# source: https://medium.com/huddlofficial/how-to-buy-bitcoin-at-deep-discounts-599492ba5556\n",
        "\n",
        "\n",
        "import requests\n",
        "from datetime import datetime as dt\n",
        "import statistics\n",
        "from tabulate import tabulate as tb\n",
        "\n",
        "\n",
        "apikey = 'YOUR_API_KEY'\n",
        "url = 'https://min-api.cryptocompare.com/data/v2/histoday?fsym=BTC&tsym=USD&allData=true'\n",
        "#url = 'https://min-api.cryptocompare.com/data/v2/histoday?fsym=BTC&tsym=USD&limit=2000'\n",
        "headers = {'authorization': apikey}\n",
        "r = requests.get(url, headers=headers).json()\n",
        "df = {'datetime': [], 'Open': []}\n",
        "for i in range(len(r['Data']['Data'])):\n",
        "    df['datetime'].append(dt.fromtimestamp(r['Data']['Data'][i]['time']).strftime('%Y-%m-%d'))\n",
        "    df['Open'].append(float(r['Data']['Data'][i]['open']))\n",
        "\n",
        "btc_price_list = []\n",
        "invested = 0\n",
        "hodlings = .0\n",
        "table = [['Date', 'Investment', 'BTC price', 'Bought', 'Hodlings', 'Value', 'Invested', 'Profit $', 'Profit %', 'DCAD']]\n",
        "for i in range(len(df['datetime'])):\n",
        "    if df['datetime'][i][-2:] == '01': # monthly.\n",
        "#    if df['datetime'][i][-5:] == '01-01': # annually.\n",
        "        investment = 100\n",
        "        btc_price = float('{:.2f}'.format(df['Open'][i]))\n",
        "        btc_price_list.append(btc_price)\n",
        "        bought = float('{:.8f}'.format(investment / btc_price))\n",
        "        hodlings = float('{:.8f}'.format(hodlings + bought))\n",
        "        value = float('{:.2f}'.format(hodlings * btc_price))\n",
        "        invested += investment\n",
        "        profita = float('{:.2f}'.format(value - invested))\n",
        "        profitp = float('{:.2f}'.format((value - invested) / invested * 100))\n",
        "        arithmetic_mean = statistics.mean(btc_price_list)\n",
        "        harmonic_mean = statistics.harmonic_mean(btc_price_list)\n",
        "        dcad = float('{:.2f}'.format((arithmetic_mean - harmonic_mean) / arithmetic_mean * 100))\n",
        "        table.append([\n",
        "                      df['datetime'][i], investment, btc_price, bought, hodlings, value, invested, profita, profitp, dcad\n",
        "        ])\n",
        "table.append(table[0])\n",
        "print (tb(table, headers='firstrow', tablefmt='grid', showindex='always'))\n"
      ],
      "execution_count": 0,
      "outputs": []
    }
  ]
}