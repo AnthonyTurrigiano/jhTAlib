{
  "nbformat": 4,
  "nbformat_minor": 0,
  "metadata": {
    "colab": {
      "name": "example-2-plot.ipynb",
      "version": "0.3.2",
      "provenance": []
    },
    "kernelspec": {
      "name": "python3",
      "display_name": "Python 3"
    }
  },
  "cells": [
    {
      "metadata": {
        "id": "69IpGclWooU_",
        "colab_type": "code",
        "colab": {}
      },
      "cell_type": "code",
      "source": [
        "!pip install --upgrade jhtalib"
      ],
      "execution_count": 0,
      "outputs": []
    },
    {
      "metadata": {
        "id": "MGFDS5K6pAvL",
        "colab_type": "code",
        "colab": {}
      },
      "cell_type": "code",
      "source": [
        "import requests\n",
        "import csv\n",
        "\n",
        "import jhtalib as jhta\n",
        "import matplotlib.pyplot as plt\n",
        "\n",
        "\n",
        "# download csv content:\n",
        "result = requests.get('https://raw.githubusercontent.com/joosthoeks/jhTAlib/master/example/data.csv')\n",
        "decoded = result.content.decode('utf-8')\n",
        "csv_reader = csv.reader(decoded.splitlines(), delimiter=',')\n",
        "\n",
        "# save csv content to csv file:\n",
        "with open('data.csv', 'w') as csv_file:\n",
        "  csv_writer = csv.writer(csv_file)\n",
        "  for row in csv_reader:\n",
        "    csv_writer.writerow(row)\n",
        "\n",
        "# start example:\n",
        "df = jhta.CSV2DF('data.csv')\n",
        "x = df['datetime']\n",
        "bbands = jhta.BBANDS(df, 20)\n",
        "\n",
        "plt.figure(1)\n",
        "\n",
        "plt.subplot(211)\n",
        "plt.title('Time / Price')\n",
        "plt.xlabel('Time')\n",
        "plt.ylabel('Price')\n",
        "plt.grid(True)\n",
        "plt.plot(x, df['Close'], color='blue')\n",
        "plt.plot(x, bbands['midband'], color='red')\n",
        "plt.plot(x, bbands['upperband'], color='yellow')\n",
        "plt.plot(x, bbands['lowerband'], color='yellow')\n",
        "plt.legend(['Close', 'BBANDS midband', 'BBANDS upperband', 'BBANDS lowerband'], loc='upper left')\n",
        "\n",
        "plt.show()\n"
      ],
      "execution_count": 0,
      "outputs": []
    }
  ]
}