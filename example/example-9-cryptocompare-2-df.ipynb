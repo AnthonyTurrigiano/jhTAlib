{
  "nbformat": 4,
  "nbformat_minor": 0,
  "metadata": {
    "colab": {
      "name": "example-9-cryptocompare-2-df.ipynb",
      "version": "0.3.2",
      "provenance": [],
      "collapsed_sections": []
    },
    "kernelspec": {
      "name": "python3",
      "display_name": "Python 3"
    }
  },
  "cells": [
    {
      "metadata": {
        "id": "rgArDkTD3vA9",
        "colab_type": "code",
        "colab": {}
      },
      "cell_type": "code",
      "source": [
        "import requests\n",
        "from datetime import datetime as dt\n",
        "from pprint import pprint as pp\n",
        "\n",
        "\n",
        "url = 'https://min-api.cryptocompare.com/data/histoday?fsym=ETH&tsym=BTC&allData=true'\n",
        "headers = {'authorization': 'Apikey YOUR_API_KEY'}\n",
        "r = requests.get(url, headers=headers).json()\n",
        "#print (len(r['Data']))\n",
        "#pp (r)\n",
        "\n",
        "df = {'datetime': [], 'Open': [], 'High': [], 'Low': [], 'Close': [], 'Volume': []}\n",
        "i = 0\n",
        "while i < len(r['Data']):\n",
        "#  df['datetime'].append(r['Data'][i]['time'])\n",
        "  df['datetime'].append(dt.fromtimestamp(r['Data'][i]['time']))\n",
        "  df['Open'].append(float(r['Data'][i]['open']))\n",
        "  df['High'].append(float(r['Data'][i]['high']))\n",
        "  df['Low'].append(float(r['Data'][i]['low']))\n",
        "  df['Close'].append(float(r['Data'][i]['close']))\n",
        "  df['Volume'].append(int(r['Data'][i]['volumefrom']))\n",
        "  i += 1\n",
        "\n",
        "print (len(df['Close']))\n",
        "pp (df)\n"
      ],
      "execution_count": 0,
      "outputs": []
    }
  ]
}