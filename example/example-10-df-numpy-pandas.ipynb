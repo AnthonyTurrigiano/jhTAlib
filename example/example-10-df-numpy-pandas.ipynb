{
  "nbformat": 4,
  "nbformat_minor": 0,
  "metadata": {
    "colab": {
      "name": "example-10-df-numpy-pandas.ipynb",
      "version": "0.3.2",
      "provenance": [],
      "collapsed_sections": []
    },
    "kernelspec": {
      "name": "python3",
      "display_name": "Python 3"
    },
    "accelerator": "TPU"
  },
  "cells": [
    {
      "metadata": {
        "id": "JcXr2ZZ1kwSi",
        "colab_type": "code",
        "colab": {}
      },
      "cell_type": "code",
      "source": [
        "!pip install --upgrade jhtalib\n"
      ],
      "execution_count": 0,
      "outputs": []
    },
    {
      "metadata": {
        "id": "q7FIPHDfMtk-",
        "colab_type": "code",
        "colab": {}
      },
      "cell_type": "code",
      "source": [
        "import jhtalib as jhta\n",
        "from pprint import pprint as pp\n",
        "import numpy as np\n",
        "import pandas as pd\n",
        "\n",
        "\n",
        "def DF2NUMPY(df):\n",
        "  \"\"\"\n",
        "  DataFeed 2 NumPy DataFeed\n",
        "  \"\"\"\n",
        "  return {\n",
        "    'datetime': np.array(df['datetime']),\n",
        "    'Open': np.array(df['Open'], dtype=float),\n",
        "    'High': np.array(df['High'], dtype=float),\n",
        "    'Low': np.array(df['Low'], dtype=float),\n",
        "    'Close': np.array(df['Close'], dtype=float),\n",
        "    'Volume': np.array(df['Volume'], dtype=int)\n",
        "    }\n",
        "\n",
        "def NUMPY2DF(df_np):\n",
        "  \"\"\"\n",
        "  NumPy DataFeed 2 DataFeed\n",
        "  \"\"\"\n",
        "  return {\n",
        "      'datetime': tuple(df_np['datetime']),\n",
        "      'Open': tuple(df_np['Open']),\n",
        "      'High': tuple(df_np['High']),\n",
        "      'Low': tuple(df_np['Low']),\n",
        "      'Close': tuple(df_np['Close']),\n",
        "      'Volume': tuple(df_np['Volume'])\n",
        "  }\n",
        "\n",
        "def DF2PANDAS(df):\n",
        "  \"\"\"\n",
        "  DataFeed 2 Pandas DataFeed\n",
        "  \"\"\"\n",
        "  return pd.DataFrame({\n",
        "      'datetime': pd.Series(df['datetime']),\n",
        "      'Open': pd.Series(df['Open'], dtype=float),\n",
        "      'High': pd.Series(df['High'], dtype=float),\n",
        "      'Low': pd.Series(df['Low'], dtype=float),\n",
        "      'Close': pd.Series(df['Close'], dtype=float),\n",
        "      'Volume': pd.Series(df['Volume'], dtype=int),\n",
        "  }, columns=['datetime', 'Open', 'High', 'Low', 'Close', 'Volume'])\n",
        "\n",
        "def PANDAS2DF(df_pd):\n",
        "  \"\"\"\n",
        "  Pandas DataFeed 2 DataFeed\n",
        "  \"\"\"\n",
        "  return {\n",
        "      'datetime': tuple(df_pd['datetime']),\n",
        "      'Open': tuple(df_pd['Open']),\n",
        "      'High': tuple(df_pd['High']),\n",
        "      'Low': tuple(df_pd['Low']),\n",
        "      'Close': tuple(df_pd['Close']),\n",
        "      'Volume': tuple(df_pd['Volume'])\n",
        "  }\n",
        "\n",
        "\n",
        "df = jhta.CSVURL2DF('https://raw.githubusercontent.com/joosthoeks/jhTAlib/master/example/data.csv')\n",
        "pp (df)\n",
        "\n",
        "df_np = DF2NUMPY(df)\n",
        "pp (df_np)\n",
        "\n",
        "df = NUMPY2DF(df_np)\n",
        "pp (df)\n",
        "\n",
        "df_pd = DF2PANDAS(df)\n",
        "pp (df_pd)\n",
        "\n",
        "df = PANDAS2DF(df_pd)\n",
        "pp (df)\n"
      ],
      "execution_count": 0,
      "outputs": []
    }
  ]
}