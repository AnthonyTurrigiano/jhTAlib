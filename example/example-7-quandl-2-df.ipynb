{
  "nbformat": 4,
  "nbformat_minor": 0,
  "metadata": {
    "colab": {
      "name": "example-7-quandl-2-df.ipynb",
      "version": "0.3.2",
      "provenance": [],
      "collapsed_sections": []
    },
    "kernelspec": {
      "name": "python3",
      "display_name": "Python 3"
    }
  },
  "cells": [
    {
      "metadata": {
        "id": "uCrOUsHiEkUV",
        "colab_type": "code",
        "colab": {}
      },
      "cell_type": "code",
      "source": [
        "import requests\n",
        "from datetime import datetime as dt\n",
        "from pprint import pprint as pp\n",
        "\n",
        "\n",
        "def request_quandl(endpoint, **kwargs):\n",
        "  params = {'order': 'asc', 'returns': 'numpy', 'authtoken': 'YOUR_AUTH_TOKEN'}\n",
        "  params.update(kwargs)\n",
        "  r = requests.get('https://www.quandl.com/api/v3/datasets/%s/data.json' % endpoint, params=params).json()\n",
        "  df = {'datetime': [], 'Open': [], 'High': [], 'Low': [], 'Close': [], 'Volume': []}\n",
        "  i = 0\n",
        "  while i < len(r['dataset_data']['data']):\n",
        "#    df['datetime'].append(i)\n",
        "#    df['datetime'].append(r['dataset_data']['data'][i][0])\n",
        "    df['datetime'].append(dt.strptime(r['dataset_data']['data'][i][0], '%Y-%m-%d'))\n",
        "    df['Open'].append(float(r['dataset_data']['data'][i][1]))\n",
        "    df['High'].append(float(r['dataset_data']['data'][i][2]))\n",
        "    df['Low'].append(float(r['dataset_data']['data'][i][3]))\n",
        "    df['Close'].append(float(r['dataset_data']['data'][i][4]))\n",
        "    df['Volume'].append(int(r['dataset_data']['data'][i][5]))\n",
        "    i += 1\n",
        "  return df\n",
        "\n",
        "\n",
        "df = request_quandl('BCHARTS/BITSTAMPUSD', collapse='daily')\n",
        "print (len(df['Close']))\n",
        "pp (df)\n"
      ],
      "execution_count": 0,
      "outputs": []
    }
  ]
}