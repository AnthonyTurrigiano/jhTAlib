{
  "nbformat": 4,
  "nbformat_minor": 0,
  "metadata": {
    "colab": {
      "name": "example-5-plot-quandl.ipynb",
      "version": "0.3.2",
      "provenance": []
    },
    "kernelspec": {
      "name": "python3",
      "display_name": "Python 3"
    }
  },
  "cells": [
    {
      "metadata": {
        "id": "mjLtnyOCVZI5",
        "colab_type": "code",
        "colab": {}
      },
      "cell_type": "code",
      "source": [
        "!pip install --upgrade quandl\n",
        "!pip install --upgrade jhtalib"
      ],
      "execution_count": 0,
      "outputs": []
    },
    {
      "metadata": {
        "id": "RCOFr0A_Vwdj",
        "colab_type": "code",
        "colab": {}
      },
      "cell_type": "code",
      "source": [
        "import quandl\n",
        "import jhtalib as jhta\n",
        "import matplotlib.pyplot as plt\n",
        "\n",
        "\n",
        "#quandl_data = quandl.get('BCHARTS/BITSTAMPUSD', start_date='2011-01-01', end_date='2018-11-01', order='asc', collapse='daily', returns='numpy', authtoken='YOUR_AUTH_TOKEN')\n",
        "quandl_data = quandl.get('BCHARTS/BITSTAMPUSD', start_date='2011-01-01', end_date='2018-11-01', order='asc', collapse='daily', returns='numpy')\n",
        "\n",
        "df = {'datetime': [], 'Open': [], 'High': [], 'Low': [], 'Close': [], 'Volume': []}\n",
        "i = 0\n",
        "while i < len(quandl_data['Close']):\n",
        "  df['datetime'].append(str(quandl_data['Date'][i]))\n",
        "  df['Open'].append(float(quandl_data['Open'][i]))\n",
        "  df['High'].append(float(quandl_data['High'][i]))\n",
        "  df['Low'].append(float(quandl_data['Low'][i]))\n",
        "  df['Close'].append(float(quandl_data['Close'][i]))\n",
        "  df['Volume'].append(int(quandl_data['Volume (BTC)'][i]))\n",
        "  i += 1\n",
        "\n",
        "x = df['datetime']\n",
        "\n",
        "plt.figure(1, figsize=(20, 10))\n",
        "\n",
        "plt.subplot(211)\n",
        "plt.title('Time / Price / Ratio')\n",
        "plt.xlabel('Time')\n",
        "plt.ylabel('Price')\n",
        "plt.grid(True)\n",
        "plt.plot(x, df['Close'], color='blue')\n",
        "plt.plot(x, jhta.SMA(df, 200), color='red')\n",
        "plt.legend(['Close', 'SMA 200'], loc='upper left')\n",
        "\n",
        "plt.subplot(212)\n",
        "plt.xlabel('Time')\n",
        "plt.ylabel('Ratio')\n",
        "plt.grid(True)\n",
        "plt.plot(x, [1] * len(x))\n",
        "plt.plot(x, jhta.MMR(df))\n",
        "plt.legend(['SMA 200', 'MMR'], loc='upper left')\n",
        "\n",
        "plt.show()\n"
      ],
      "execution_count": 0,
      "outputs": []
    }
  ]
}