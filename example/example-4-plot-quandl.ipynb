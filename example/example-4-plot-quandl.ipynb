{
  "nbformat": 4,
  "nbformat_minor": 0,
  "metadata": {
    "colab": {
      "name": "example-4-plot-quandl.ipynb",
      "version": "0.3.2",
      "provenance": []
    },
    "kernelspec": {
      "name": "python3",
      "display_name": "Python 3"
    }
  },
  "cells": [
    {
      "metadata": {
        "id": "Mj7YX4fsIYm-",
        "colab_type": "code",
        "colab": {}
      },
      "cell_type": "code",
      "source": [
        "!pip install --upgrade quandl\n",
        "!pip install --upgrade jhtalib"
      ],
      "execution_count": 0,
      "outputs": []
    },
    {
      "metadata": {
        "id": "2rC37p9wIjUj",
        "colab_type": "code",
        "colab": {}
      },
      "cell_type": "code",
      "source": [
        "import quandl\n",
        "import jhtalib as jhta\n",
        "import matplotlib.pyplot as plt\n",
        "\n",
        "\n",
        "#quandl_data = quandl.get('BCHARTS/BITSTAMPUSD', start_date='2011-01-01', end_date='2018-11-01', order='asc', collapse='daily', returns='numpy', authtoken='YOUR_AUTH_TOKEN')\n",
        "quandl_data = quandl.get('BCHARTS/BITSTAMPUSD', start_date='2011-01-01', end_date='2018-11-01', order='asc', collapse='daily', returns='numpy')\n",
        "\n",
        "df = {'datetime': [], 'Open': [], 'High': [], 'Low': [], 'Close': [], 'Volume': []}\n",
        "i = 0\n",
        "while i < len(quandl_data['Close']):\n",
        "  df['datetime'].append(str(quandl_data['Date'][i]))\n",
        "  df['Open'].append(float(quandl_data['Open'][i]))\n",
        "  df['High'].append(float(quandl_data['High'][i]))\n",
        "  df['Low'].append(float(quandl_data['Low'][i]))\n",
        "  df['Close'].append(float(quandl_data['Close'][i]))\n",
        "  df['Volume'].append(int(quandl_data['Volume (BTC)'][i]))\n",
        "  i += 1\n",
        "\n",
        "x = df['datetime']\n",
        "\n",
        "plt.figure(1, figsize=(20, 10))\n",
        "\n",
        "plt.subplot(211)\n",
        "plt.title('Time / Price')\n",
        "plt.xlabel('Time')\n",
        "plt.ylabel('Price')\n",
        "plt.grid(True)\n",
        "plt.plot(x, df['Close'], color='blue')\n",
        "plt.plot(x, df['High'], color='grey')\n",
        "plt.plot(x, df['Low'], color='grey')\n",
        "plt.plot(x, jhta.ATH(df)['ath'], color='red')\n",
        "plt.plot(x, jhta.LMC(df)['lmc'], color='green')\n",
        "plt.legend(['Close', 'High', 'Low', 'ATH', 'LMC'], loc='upper left')\n",
        "\n",
        "plt.show()\n"
      ],
      "execution_count": 0,
      "outputs": []
    }
  ]
}