{
  "nbformat": 4,
  "nbformat_minor": 0,
  "metadata": {
    "colab": {
      "name": "example-11-basic-usage.ipynb",
      "version": "0.3.2",
      "provenance": []
    },
    "kernelspec": {
      "name": "python3",
      "display_name": "Python 3"
    },
    "accelerator": "TPU"
  },
  "cells": [
    {
      "cell_type": "code",
      "metadata": {
        "id": "BGm2HquKHz9B",
        "colab_type": "code",
        "colab": {}
      },
      "source": [
        "!pip install --upgrade jhtalib\n"
      ],
      "execution_count": 0,
      "outputs": []
    },
    {
      "cell_type": "code",
      "metadata": {
        "id": "umhhLzw0I3ez",
        "colab_type": "code",
        "colab": {}
      },
      "source": [
        "import jhtalib as jhta\n",
        "from pprint import pprint as pp\n",
        "\n",
        "\n",
        "# df is DataFeed:\n",
        "df = {\n",
        "    'datetime': ('20151217', '20151218', '20151221', '20151222', '20151223', '20151224', '20151228', '20151229', '20151230', '20151231'),\n",
        "    'Open': (235.8, 232.3, 234.1, 232.2, 232.7, 235.4, 236.9, 234.85, 236.45, 235.0),\n",
        "    'High': (238.05, 236.9, 237.3, 232.4, 235.2, 236.15, 236.9, 237.6, 238.3, 237.25),\n",
        "    'Low': (234.55, 230.6, 230.2, 226.8, 231.5, 233.85, 233.05, 234.6, 234.55, 234.4),\n",
        "    'Close': (234.6, 233.6, 230.2, 230.05, 234.15, 236.15, 233.25, 237.6, 235.75, 234.4),\n",
        "    'Volume': (448294, 629039, 292528, 214170, 215545, 23548, 97574, 192908, 176839, 69347)\n",
        "     }\n",
        "\n",
        "# basic usage:\n",
        "#pp (df)\n",
        "pp (jhta.SMA(df, 10))\n",
        "#pp (jhta.BBANDS(df, 10))\n"
      ],
      "execution_count": 0,
      "outputs": []
    }
  ]
}